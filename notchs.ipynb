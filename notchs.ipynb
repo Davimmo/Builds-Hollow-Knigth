{
 "cells": [
  {
   "cell_type": "code",
   "execution_count": 1,
   "metadata": {},
   "outputs": [
    {
     "name": "stdout",
     "output_type": "stream",
     "text": [
      "[1, 1, 1, 1, 1, 1, 1, 1, 1, 1, 2, 2, 2, 2, 2, 2, 2, 2, 2, 2, 2, 2, 2, 2, 2, 2, 2, 2, 3, 3, 3, 3, 3, 3, 3, 3, 3, 3, 3, 4, 4, 4, 4, 5]\n",
      "Número total de combinações válidas: 1933022\n"
     ]
    }
   ],
   "source": [
    "#Eu\n",
    "import itertools\n",
    "\n",
    "# Quantidades de amuletos por tipo de notches\n",
    "amuletos_1_notch = 10\n",
    "amuletos_2_notches = 18\n",
    "amuletos_3_notches = 11\n",
    "amuletos_4_notches = 4\n",
    "amuletos_5_notches = 1\n",
    "\n",
    "# Lista de amuletos com o número de notches que eles ocupam\n",
    "amuletos = [1] * amuletos_1_notch + [2] * amuletos_2_notches + [3] * amuletos_3_notches + \\\n",
    "           [4] * amuletos_4_notches + [5] * amuletos_5_notches\n",
    "print(amuletos)\n",
    "# Variável para contar as combinações válidas\n",
    "combinacoes_validas = 0\n",
    "\n",
    "# Vamos testar todas as combinações possíveis de até 11 amuletos\n",
    "for r in range(1, 12):  # Testa combinações de 1 até 11 amuletos\n",
    "    # Para cada combinação de r amuletos\n",
    "    for combinacao in itertools.combinations(amuletos, r):\n",
    "        # Se a soma dos notches for exatamente 11\n",
    "        if sum(combinacao) == 11:\n",
    "            combinacoes_validas += 1\n",
    "\n",
    "print(f'Número total de combinações válidas: {combinacoes_validas}')\n"
   ]
  },
  {
   "cell_type": "code",
   "execution_count": 2,
   "metadata": {},
   "outputs": [
    {
     "name": "stdout",
     "output_type": "stream",
     "text": [
      "45\n",
      "Número total de combinações válidas: 1933022\n",
      "['Bússola Caprichosa', 'Enxame de Colecionadores', 'Carapaça Robusta', 'Apanhador de Almas', 'Pedra do Xamã', 'Mestre da Esquiva']\n",
      "['Bússola Caprichosa', 'Enxame de Colecionadores', 'Carapaça Robusta', 'Apanhador de Almas', 'Pedra do Xamã', 'Mestre da Corrida', 'Canção das Larvas']\n",
      "['Bússola Caprichosa', 'Enxame de Colecionadores', 'Carapaça Robusta', 'Apanhador de Almas', 'Pedra do Xamã', 'Mestre da Corrida', 'Corpo Firme']\n",
      "['Bússola Caprichosa', 'Enxame de Colecionadores', 'Carapaça Robusta', 'Apanhador de Almas', 'Pedra do Xamã', 'Mestre da Corrida', 'Espinhos da Agonia']\n",
      "['Bússola Caprichosa', 'Enxame de Colecionadores', 'Carapaça Robusta', 'Apanhador de Almas', 'Pedra do Xamã', 'Mestre da Corrida', 'Insignia do Defensor']\n"
     ]
    }
   ],
   "source": [
    "#Yago\n",
    "def solv(charms, m, start=0, cc=None, cn=0):\n",
    "    if cc is None:\n",
    "        cc = []\n",
    "    if cn == m:  # Gera a combinação apenas quando a soma for exatamente igual a m\n",
    "        yield cc\n",
    "        return\n",
    "    if cn > m:  # Se a soma exceder o limite, interrompe\n",
    "        return\n",
    "    for i in range(start, len(charms)):\n",
    "        name, notches = charms[i]\n",
    "        yield from solv(charms, m, i + 1, cc + [name], cn + notches)\n",
    "\n",
    "\n",
    "# Lista de amuletos e seus respectivos notches\n",
    "charms = [\n",
    "    (\"Bússola Caprichosa\", 1),\n",
    "    (\"Enxame de Colecionadores\", 1),\n",
    "    (\"Carapaça Robusta\", 2),\n",
    "    (\"Apanhador de Almas\", 2),\n",
    "    (\"Pedra do Xamã\", 3),\n",
    "    (\"Devorador de Almas\", 4),\n",
    "    (\"Mestre da Esquiva\", 2),\n",
    "    (\"Mestre da Corrida\", 1),\n",
    "    (\"Canção das Larvas\", 1),\n",
    "    (\"Elegia da Larvamosca\", 3),\n",
    "    (\"Coração Frágil\", 2),\n",
    "    (\"Coração Inquebrável\", 2),\n",
    "    (\"Ganância Frágil\", 2),\n",
    "    (\"Ganância Inquebrável\", 2),\n",
    "    (\"Força Frágil\", 3),\n",
    "    (\"Força Inquebrável\", 3),\n",
    "    (\"Dobrador de Magias\", 2),\n",
    "    (\"Corpo Firme\", 1),\n",
    "    (\"Golpe Pesado\", 2),\n",
    "    (\"Corte Rápido\", 3),\n",
    "    (\"Ferrão Longo\", 2),\n",
    "    (\"Marca de Orgulho\", 3),\n",
    "    (\"Fúria dos Caídos\", 2),\n",
    "    (\"Espinhos da Agonia\", 1),\n",
    "    (\"Carapaça de Baldur\", 2),\n",
    "    (\"Ninho de Flukes\", 3),\n",
    "    (\"Insignia do Defensor\", 1),\n",
    "    (\"Útero Brilhante\", 2),\n",
    "    (\"Foco Rápido\", 3),\n",
    "    (\"Foco Profundo\", 4),\n",
    "    (\"Coração de Sangue Vital\", 2),\n",
    "    (\"Núcleo de Sangue Vital\", 3),\n",
    "    (\"Bênção de Joni\", 4),\n",
    "    (\"Sangue da Colmeia\", 4),\n",
    "    (\"Cogumelo com Esporos\", 1),\n",
    "    (\"Sombra Afiada\", 2),\n",
    "    (\"Forma de Unn\", 2),\n",
    "    (\"Glória do Mestre do Ferrão\", 1),\n",
    "    (\"Canção das Tecelãs\", 2),\n",
    "    (\"Portador dos Sonhos\", 1),\n",
    "    (\"Escudo dos Sonhos\", 3),\n",
    "    (\"Criança Grimm\", 2),\n",
    "    (\"Melodia Despreocupada\", 3),\n",
    "    (\"Alma do Rei\", 5),\n",
    "    (\"coração vazio\",0)\n",
    "]\n",
    "\n",
    "print(len(charms))\n",
    "# Gerando as combinações válidas\n",
    "m = 11  # Máximo de notches\n",
    "combinacoes_validas = list(solv(charms, m))\n",
    "\n",
    "# Exibindo a quantidade de combinações válidas\n",
    "print(f\"Número total de combinações válidas: {len(combinacoes_validas)}\")\n",
    "\n",
    "# Opcional: exibir algumas combinações\n",
    "for combo in combinacoes_validas[:5]:  # Exibe as primeiras 5 combinações\n",
    "    print(combo)\n",
    "\n"
   ]
  },
  {
   "cell_type": "code",
   "execution_count": 42,
   "metadata": {},
   "outputs": [
    {
     "name": "stdout",
     "output_type": "stream",
     "text": [
      "['Elegia da Larvamosca', 'Coração Inquebrável', 'Ganância Frágil', 'Golpe Pesado', 'Ferrão Longo']\n"
     ]
    }
   ],
   "source": [
    "3866044 coração vazio\n",
    "1933022\n",
    "from random import  randint\n",
    "aleatorio=randint(0,len(combinacoes_validas))\n",
    "print(combinacoes_validas[aleatorio])"
   ]
  },
  {
   "cell_type": "code",
   "execution_count": 48,
   "metadata": {},
   "outputs": [
    {
     "name": "stdout",
     "output_type": "stream",
     "text": [
      "Número total de combinações válidas: 25439230\n",
      "['Bússola Caprichosa', 'Enxame de Colecionadores', 'Carapaça Robusta', 'Apanhador de Almas', 'Pedra do Xamã', 'Mestre da Corrida', 'Devorador de Almas']\n",
      "['Bússola Caprichosa', 'Enxame de Colecionadores', 'Carapaça Robusta', 'Apanhador de Almas', 'Pedra do Xamã', 'Mestre da Corrida', 'Mestre da Esquiva']\n",
      "['Bússola Caprichosa', 'Enxame de Colecionadores', 'Carapaça Robusta', 'Apanhador de Almas', 'Pedra do Xamã', 'Mestre da Corrida', 'Elegia da Larvamosca']\n",
      "['Bússola Caprichosa', 'Enxame de Colecionadores', 'Carapaça Robusta', 'Apanhador de Almas', 'Pedra do Xamã', 'Mestre da Corrida', 'Coração Frágil']\n",
      "['Bússola Caprichosa', 'Enxame de Colecionadores', 'Carapaça Robusta', 'Apanhador de Almas', 'Pedra do Xamã', 'Mestre da Corrida', 'Coração Inquebrável']\n"
     ]
    }
   ],
   "source": [
    "def solv(charms, m, start=0, cc=None, cn=0, used=None):\n",
    "    if cc is None:\n",
    "        cc = []\n",
    "    if used is None:\n",
    "        used = set()\n",
    "    \n",
    "    if cn == m:  # Quando a soma é exatamente igual a m\n",
    "        # Gera a combinação atual e adiciona qualquer outro amuleto com 2 notches ou mais que não foi usado\n",
    "        available_charms = [name for name, notches in charms if name not in used and notches >= 2]\n",
    "        for charm in available_charms:\n",
    "            yield cc + [charm]\n",
    "        return\n",
    "    \n",
    "    if cn > m:  # Se a soma exceder o limite, interrompe\n",
    "        return\n",
    "    \n",
    "    for i in range(start, len(charms)):\n",
    "        name, notches = charms[i]\n",
    "        if name not in used:\n",
    "            yield from solv(charms, m, i + 1, cc + [name], cn + notches, used | {name})\n",
    "\n",
    "# Lista de amuletos e seus respectivos notches\n",
    "charms = [\n",
    "    (\"Bússola Caprichosa\", 1),\n",
    "    (\"Enxame de Colecionadores\", 1),\n",
    "    (\"Carapaça Robusta\", 2),\n",
    "    (\"Apanhador de Almas\", 2),\n",
    "    (\"Pedra do Xamã\", 3),\n",
    "    (\"Devorador de Almas\", 4),\n",
    "    (\"Mestre da Esquiva\", 2),\n",
    "    (\"Mestre da Corrida\", 1),\n",
    "    (\"Canção das Larvas\", 1),\n",
    "    (\"Elegia da Larvamosca\", 3),\n",
    "    (\"Coração Frágil\", 2),\n",
    "    (\"Coração Inquebrável\", 2),\n",
    "    (\"Ganância Frágil\", 2),\n",
    "    (\"Ganância Inquebrável\", 2),\n",
    "    (\"Força Frágil\", 3),\n",
    "    (\"Força Inquebrável\", 3),\n",
    "    (\"Dobrador de Magias\", 2),\n",
    "    (\"Corpo Firme\", 1),\n",
    "    (\"Golpe Pesado\", 2),\n",
    "    (\"Corte Rápido\", 3),\n",
    "    (\"Ferrão Longo\", 2),\n",
    "    (\"Marca de Orgulho\", 3),\n",
    "    (\"Fúria dos Caídos\", 2),\n",
    "    (\"Espinhos da Agonia\", 1),\n",
    "    (\"Carapaça de Baldur\", 2),\n",
    "    (\"Ninho de Flukes\", 3),\n",
    "    (\"Insignia do Defensor\", 1),\n",
    "    (\"Útero Brilhante\", 2),\n",
    "    (\"Foco Rápido\", 3),\n",
    "    (\"Foco Profundo\", 4),\n",
    "    (\"Coração de Sangue Vital\", 2),\n",
    "    (\"Núcleo de Sangue Vital\", 3),\n",
    "    (\"Bênção de Joni\", 4),\n",
    "    (\"Sangue da Colmeia\", 4),\n",
    "    (\"Cogumelo com Esporos\", 1),\n",
    "    (\"Sombra Afiada\", 2),\n",
    "    (\"Forma de Unn\", 2),\n",
    "    (\"Glória do Mestre do Ferrão\", 1),\n",
    "    (\"Canção das Tecelãs\", 2),\n",
    "    (\"Portador dos Sonhos\", 1),\n",
    "    (\"Escudo dos Sonhos\", 3),\n",
    "    (\"Criança Grimm\", 2),\n",
    "    (\"Melodia Despreocupada\", 3),\n",
    "    (\"Alma do Rei\", 5),\n",
    "]\n",
    "\n",
    "# Gerando as combinações válidas\n",
    "m = 10  # Máximo de notches\n",
    "combinacoes_validas = list(solv(charms, m))\n",
    "\n",
    "# Exibindo a quantidade de combinações válidas\n",
    "print(f\"Número total de combinações válidas: {len(combinacoes_validas)}\")\n",
    "\n",
    "# Opcional: exibir algumas combinações\n",
    "for combo in combinacoes_validas[:5]:  # Exibe as primeiras 5 combinações\n",
    "    print(combo)\n"
   ]
  },
  {
   "cell_type": "code",
   "execution_count": 66,
   "metadata": {},
   "outputs": [
    {
     "name": "stdout",
     "output_type": "stream",
     "text": [
      "['Apanhador de Almas', 'Corpo Firme', 'Marca de Orgulho', 'Espinhos da Agonia', 'Portador dos Sonhos', 'Criança Grimm', 'Golpe Pesado']\n"
     ]
    }
   ],
   "source": [
    "from random import  randint\n",
    "aleatorio=randint(0,len(combinacoes_validas))\n",
    "print(combinacoes_validas[aleatorio])"
   ]
  },
  {
   "cell_type": "code",
   "execution_count": null,
   "metadata": {},
   "outputs": [],
   "source": []
  }
 ],
 "metadata": {
  "kernelspec": {
   "display_name": "Python 3",
   "language": "python",
   "name": "python3"
  },
  "language_info": {
   "codemirror_mode": {
    "name": "ipython",
    "version": 3
   },
   "file_extension": ".py",
   "mimetype": "text/x-python",
   "name": "python",
   "nbconvert_exporter": "python",
   "pygments_lexer": "ipython3",
   "version": "3.12.2"
  }
 },
 "nbformat": 4,
 "nbformat_minor": 2
}
