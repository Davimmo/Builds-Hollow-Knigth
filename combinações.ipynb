{
 "cells": [
  {
   "cell_type": "code",
   "execution_count": 5,
   "metadata": {},
   "outputs": [
    {
     "name": "stdout",
     "output_type": "stream",
     "text": [
      "[['A', 'B', 'C'], ['A', 'B', 'D'], ['A', 'B', 'E'], ['A', 'C', 'D'], ['A', 'C', 'E'], ['A', 'D', 'E'], ['B', 'C', 'D'], ['B', 'C', 'E'], ['B', 'D', 'E'], ['C', 'D', 'E']]\n"
     ]
    }
   ],
   "source": [
    "def gerar_combinações(lista, quantidade, j=0, combinação=None, combinações_validas=None):\n",
    "    if combinações_validas is None:\n",
    "        combinações_validas = []  # Inicializa apenas na primeira chamada\n",
    "    \n",
    "    if combinação is None:\n",
    "        combinação = []  # Inicializa a combinação se for a primeira chamada\n",
    "\n",
    "    # Condição de parada: se a combinação atingiu o tamanho desejado\n",
    "    if len(combinação) == quantidade:\n",
    "        combinações_validas.append(combinação[:])  # Faz uma cópia da combinação atual\n",
    "        return\n",
    "    \n",
    "    # Percorre os elementos da lista a partir do índice j\n",
    "    for i in range(j, len(lista)):\n",
    "        combinação.append(lista[i])  # Adiciona o item à combinação atual\n",
    "        gerar_combinações(lista, quantidade, i + 1, combinação, combinações_validas)  # Chama recursivamente\n",
    "        combinação.pop()  # Remove o último item para testar outras combinações\n",
    "    \n",
    "    return combinações_validas\n",
    "\n",
    "lista = ['A', 'B', 'C', 'D', 'E']\n",
    "todas_as_combinações = gerar_combinações(lista, 3)\n",
    "print(todas_as_combinações)\n"
   ]
  },
  {
   "cell_type": "code",
   "execution_count": 16,
   "metadata": {},
   "outputs": [
    {
     "name": "stdout",
     "output_type": "stream",
     "text": [
      "[(0, 1), (1, 2), (2, 3), (3, 4), (4, 5)]\n"
     ]
    }
   ],
   "source": [
    "a=[1,2,3,4,5]\n",
    "print(list(enumerate(a)))"
   ]
  },
  {
   "cell_type": "code",
   "execution_count": 32,
   "metadata": {},
   "outputs": [
    {
     "name": "stdout",
     "output_type": "stream",
     "text": [
      "Found 1933022 subsets with sum 11:\n"
     ]
    }
   ],
   "source": [
    "# Python Program to return all combinations of books\n",
    "# whose weights sum up to the given sum, using Dynamic Programming.\n",
    "\n",
    "# Function to return all subsets of books that sum to the given sum_val\n",
    "def findAllSubsets(books, sum_val):\n",
    "    n = len(books)\n",
    "    \n",
    "    # DP table where dp[i][j] is True if a sum j can be obtained using the first i books\n",
    "    dp = [[False] * (sum_val + 1) for _ in range(n + 1)]\n",
    "    \n",
    "    # To achieve sum 0, we can always pick an empty subset\n",
    "    for i in range(n + 1):\n",
    "        dp[i][0] = True\n",
    "\n",
    "    # Fill the DP table\n",
    "    for i in range(1, n + 1):\n",
    "        book_weight = books[i - 1][1]\n",
    "        for j in range(1, sum_val + 1):\n",
    "            if j < book_weight:\n",
    "                dp[i][j] = dp[i - 1][j]\n",
    "            else:\n",
    "                dp[i][j] = dp[i - 1][j] or dp[i - 1][j - book_weight]\n",
    "\n",
    "    # Now to find all subsets that sum up to sum_val, we backtrack through the table\n",
    "    result = []\n",
    "\n",
    "    def backtrack(i, current_sum, current_subset):\n",
    "        if current_sum == 0:\n",
    "            result.append(current_subset[:])  # Add a copy of the current subset\n",
    "            return\n",
    "        if i == 0:\n",
    "            return\n",
    "\n",
    "        # If we can achieve the sum without using the current book, recurse\n",
    "        if dp[i - 1][current_sum]:\n",
    "            backtrack(i - 1, current_sum, current_subset)\n",
    "\n",
    "        # If we can achieve the sum by including the current book, recurse\n",
    "        book_name, book_weight = books[i - 1]\n",
    "        if current_sum >= book_weight and dp[i - 1][current_sum - book_weight]:\n",
    "            current_subset.append(book_name)\n",
    "            backtrack(i - 1, current_sum - book_weight, current_subset)\n",
    "            current_subset.pop()\n",
    "\n",
    "    # Start backtracking from the last book and the target sum\n",
    "    if dp[n][sum_val]:\n",
    "        backtrack(n, sum_val, [])\n",
    "\n",
    "    return result\n",
    "\n",
    "# Driver code\n",
    "if __name__ == \"__main__\":\n",
    "    # Example: list of books (name, weight)\n",
    "    books = [\n",
    "    (\"Bússola Caprichosa\", 1),\n",
    "    (\"Enxame de Colecionadores\", 1),\n",
    "    (\"Carapaça Robusta\", 2),\n",
    "    (\"Apanhador de Almas\", 2),\n",
    "    (\"Pedra do Xamã\", 3),\n",
    "    (\"Devorador de Almas\", 4),\n",
    "    (\"Mestre da Esquiva\", 2),\n",
    "    (\"Mestre da Corrida\", 1),\n",
    "    (\"Canção das Larvas\", 1),\n",
    "    (\"Elegia da Larvamosca\", 3),\n",
    "    (\"Coração Frágil\", 2),\n",
    "    (\"Coração Inquebrável\", 2),\n",
    "    (\"Ganância Frágil\", 2),\n",
    "    (\"Ganância Inquebrável\", 2),\n",
    "    (\"Força Frágil\", 3),\n",
    "    (\"Força Inquebrável\", 3),\n",
    "    (\"Dobrador de Magias\", 2),\n",
    "    (\"Corpo Firme\", 1),\n",
    "    (\"Golpe Pesado\", 2),\n",
    "    (\"Corte Rápido\", 3),\n",
    "    (\"Ferrão Longo\", 2),\n",
    "    (\"Marca de Orgulho\", 3),\n",
    "    (\"Fúria dos Caídos\", 2),\n",
    "    (\"Espinhos da Agonia\", 1),\n",
    "    (\"Carapaça de Baldur\", 2),\n",
    "    (\"Ninho de Flukes\", 3),\n",
    "    (\"Insignia do Defensor\", 1),\n",
    "    (\"Útero Brilhante\", 2),\n",
    "    (\"Foco Rápido\", 3),\n",
    "    (\"Foco Profundo\", 4),\n",
    "    (\"Coração de Sangue Vital\", 2),\n",
    "    (\"Núcleo de Sangue Vital\", 3),\n",
    "    (\"Bênção de Joni\", 4),\n",
    "    (\"Sangue da Colmeia\", 4),\n",
    "    (\"Cogumelo com Esporos\", 1),\n",
    "    (\"Sombra Afiada\", 2),\n",
    "    (\"Forma de Unn\", 2),\n",
    "    (\"Glória do Mestre do Ferrão\", 1),\n",
    "    (\"Canção das Tecelãs\", 2),\n",
    "    (\"Portador dos Sonhos\", 1),\n",
    "    (\"Escudo dos Sonhos\", 3),\n",
    "    (\"Criança Grimm\", 2),\n",
    "    (\"Melodia Despreocupada\", 3),\n",
    "    (\"Alma do Rei\", 5)\n",
    "    ]\n",
    "    sum_val = 11\n",
    "    subsets = findAllSubsets(books, sum_val)\n",
    "    \n",
    "    if subsets:\n",
    "        print(f\"Found {len(subsets)} subsets with sum {sum_val}:\")\n",
    "    else:\n",
    "        print(f\"No subset with sum {sum_val}\")\n"
   ]
  }
 ],
 "metadata": {
  "kernelspec": {
   "display_name": "Python 3",
   "language": "python",
   "name": "python3"
  },
  "language_info": {
   "codemirror_mode": {
    "name": "ipython",
    "version": 3
   },
   "file_extension": ".py",
   "mimetype": "text/x-python",
   "name": "python",
   "nbconvert_exporter": "python",
   "pygments_lexer": "ipython3",
   "version": "3.12.2"
  }
 },
 "nbformat": 4,
 "nbformat_minor": 2
}
